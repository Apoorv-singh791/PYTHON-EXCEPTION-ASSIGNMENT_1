{
 "cells": [
  {
   "cell_type": "markdown",
   "id": "631cd667-eb9f-40a9-add8-39c609e1998a",
   "metadata": {},
   "source": [
    "Q1). What is multithreading in python? Why is it used? Name the module used to handle threads in python."
   ]
  },
  {
   "cell_type": "markdown",
   "id": "f55576a7-e076-4581-915d-1bc66c95eb99",
   "metadata": {},
   "source": [
    "A1).  Mutithreading is a process of executing multiple threads of proCESS simultaniously or at the same time . it is used to increase overall performance of PROCESS , 'threading' module is used to handle threads in python ."
   ]
  },
  {
   "cell_type": "markdown",
   "id": "ce4026dc-cc58-4631-a143-461adca47fda",
   "metadata": {},
   "source": [
    "Q2). Why threading module used? Write the use of the following functions:\n",
    "1. activeCount()\n",
    "2. currentThread()\n",
    "3. enumerate()"
   ]
  },
  {
   "cell_type": "markdown",
   "id": "5074e635-4439-40d2-853f-80ebffd869a4",
   "metadata": {},
   "source": [
    "A1). threading module is used for multithreading in pytthon , which means running multiple threads of process simultaniously ."
   ]
  },
  {
   "cell_type": "markdown",
   "id": "3a276c16-6714-41fc-b136-e9327630520a",
   "metadata": {},
   "source": [
    "activecount()= The active_count() method is used to count the number of active threads in a Python process. It returns an integer that indicates the number of threads that are currently alive and under execution."
   ]
  },
  {
   "cell_type": "markdown",
   "id": "7215ddbb-6e2f-4b31-95a2-4f1a4500a14f",
   "metadata": {},
   "source": [
    "currentThread()=The current_thread() method returns a list of all thread objects in the caller’s thread control."
   ]
  },
  {
   "cell_type": "markdown",
   "id": "a44eaa3e-02e9-4dea-896d-3f6573b113a0",
   "metadata": {},
   "source": [
    "enumerate() = The enumerate method is used to loop over an iterable and return an iterator of tuples containing the index and the value of each element in the iterable."
   ]
  },
  {
   "cell_type": "markdown",
   "id": "439cdf58-5f3b-4f38-8fbb-4a5068386b64",
   "metadata": {},
   "source": [
    "Q3).  Explain the following functions:\n",
    "1. run()\n",
    "2. start()\n",
    "3. join()\n",
    "4. isAlive()"
   ]
  },
  {
   "cell_type": "markdown",
   "id": "339820a9-5e77-4f87-a1db-0b23fcfe65bd",
   "metadata": {},
   "source": [
    "run() = The run() method is called when you start a thread using the start() method. It represents the thread’s activity and you can override it in your own class to define what the thread should do when started"
   ]
  },
  {
   "cell_type": "markdown",
   "id": "8981e943-62aa-48a6-bbfe-509185cb22e4",
   "metadata": {},
   "source": [
    "start() = In Python’s threading module, once a thread object is created, its activity must be started by calling the thread’s start() method."
   ]
  },
  {
   "cell_type": "markdown",
   "id": "30a5ae11-a7ce-4c1f-9ed4-96ca188f162f",
   "metadata": {},
   "source": [
    "join() = In Python’s threading module, the join() method is used to wait for the thread to complete its work."
   ]
  },
  {
   "cell_type": "markdown",
   "id": "48566d62-0db0-4fbe-8723-b5cdbb6c861a",
   "metadata": {},
   "source": [
    "isAlive() = In Python’s threading module, the isAlive() method is used to check whether a thread is alive or not. It returns a boolean value based on the thread status"
   ]
  },
  {
   "cell_type": "markdown",
   "id": "c8a65173-c090-46df-8fb7-380531b88c3e",
   "metadata": {},
   "source": [
    "Q4). Write a python program to create two threads. Thread one must print the list of squares and thread \n",
    "two must print the list of cubes "
   ]
  },
  {
   "cell_type": "code",
   "execution_count": 44,
   "id": "0aac2377-4780-44c8-befc-df0a0aa4a767",
   "metadata": {},
   "outputs": [],
   "source": [
    "from threading import Thread \n",
    "import time "
   ]
  },
  {
   "cell_type": "code",
   "execution_count": 48,
   "id": "b4a6322c-489c-44e4-be00-430fee2525ef",
   "metadata": {},
   "outputs": [],
   "source": [
    "class sqr(Thread):\n",
    "    def run(self):\n",
    "        l1=[]\n",
    "        for i in range(1,11):\n",
    "            a=i**2\n",
    "            l1.append(a)\n",
    "        print(l1)"
   ]
  },
  {
   "cell_type": "code",
   "execution_count": 49,
   "id": "a417ce70-c74b-440d-986a-3d3582212dd4",
   "metadata": {},
   "outputs": [],
   "source": [
    "class cube(Thread):\n",
    "    def run(self):\n",
    "        l2=[]\n",
    "        for i in range(1,11):\n",
    "            b=i**3\n",
    "            l2.append(b)\n",
    "        print(l2)"
   ]
  },
  {
   "cell_type": "code",
   "execution_count": 50,
   "id": "99bf63b9-cc11-48b8-a04d-a8749b966ee5",
   "metadata": {},
   "outputs": [
    {
     "name": "stdout",
     "output_type": "stream",
     "text": [
      "[1, 4, 9, 16, 25, 36, 49, 64, 81, 100]\n",
      "[1, 8, 27, 64, 125, 216, 343, 512, 729, 1000]\n"
     ]
    }
   ],
   "source": [
    "a=sqr()\n",
    "b=cube()\n",
    "a.start()\n",
    "b.start()\n",
    "a.join()\n",
    "b.join()"
   ]
  },
  {
   "cell_type": "markdown",
   "id": "b6acf984-5fdf-4110-b91b-1c3fbfa5ef3a",
   "metadata": {},
   "source": [
    "Q5). State advantages and disadvantages of multithreading."
   ]
  },
  {
   "cell_type": "markdown",
   "id": "f6fe6a45-751e-40fa-bb16-e4cae99919c1",
   "metadata": {},
   "source": [
    "A5). Multithreading has several advantages and disadvantages. Some of the advantages of multithreading are:\n",
    "\n",
    "1. Enhanced performance by decreased development time\n",
    "2. Simplified and streamlined program coding\n",
    "3. Improvised GUI responsiveness\n",
    "4. Simultaneous and parallelized occurrence of tasks\n",
    "5. Better use of cache storage by utilization of resources\n",
    "6. Decreased cost of maintenance\n",
    "7. Better use of CPU resource\n",
    "\n",
    "Some of the disadvantages of multithreading are:\n",
    "\n",
    "1. Code writing, debugging, managing concurrency, testing, porting existing code is difficult in multithreading and multicontexting.\n",
    "2. Programmers need to remove static variables and replace any code that is not thread-safe to introduce threading into a previously non-threaded application.\n"
   ]
  },
  {
   "cell_type": "markdown",
   "id": "521995a8-a535-45f8-9524-f2fb7d71d474",
   "metadata": {},
   "source": [
    "Q6). Explain deadlocks and race conditions."
   ]
  },
  {
   "cell_type": "markdown",
   "id": "702f8660-5557-4f9a-a8ae-560b46a40e5b",
   "metadata": {},
   "source": [
    "A6). A race condition occurs when two or more threads try to access a shared variable simultaneously, leading to unpredictable outcomes. In this scenario, the first thread reads the value from the shared variable. At the same time, the second thread also reads the value from the same shared variable1.\n",
    "\n",
    "Deadlocks can occur when two or more threads are blocked forever waiting for each other to release locks"
   ]
  },
  {
   "cell_type": "code",
   "execution_count": null,
   "id": "fdc7e675-df3c-4204-bff0-82066529b6f2",
   "metadata": {},
   "outputs": [],
   "source": []
  }
 ],
 "metadata": {
  "kernelspec": {
   "display_name": "Python 3 (ipykernel)",
   "language": "python",
   "name": "python3"
  },
  "language_info": {
   "codemirror_mode": {
    "name": "ipython",
    "version": 3
   },
   "file_extension": ".py",
   "mimetype": "text/x-python",
   "name": "python",
   "nbconvert_exporter": "python",
   "pygments_lexer": "ipython3",
   "version": "3.10.8"
  }
 },
 "nbformat": 4,
 "nbformat_minor": 5
}
