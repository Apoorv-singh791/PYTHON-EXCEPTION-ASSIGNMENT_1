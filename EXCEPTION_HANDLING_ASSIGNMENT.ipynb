{
 "cells": [
  {
   "cell_type": "markdown",
   "id": "d1246f0d-7f6f-4626-b4d5-ec938c60f5be",
   "metadata": {},
   "source": [
    "Q1. WHAT IS AN EXCEPTION IN PYTHON ? WRITE THE DIFFERENCE BETWEEN EXCEPTION AND SYNTAX ERRORS.\n",
    "\n"
   ]
  },
  {
   "cell_type": "markdown",
   "id": "4a459e43-f867-4366-9360-d43e461c6796",
   "metadata": {},
   "source": [
    "A1. In Python, an exception is an event that occurs during the execution of a program that disrupts the normal flow of the program’s instructions or it can laso be considered as error. In general, when a Python script encounters a situation that it cannot cope with, it raises an exception. An exception is a Python object that represents an error.\n",
    "errors can be of two types i.e. Syntax errors and Exceptions. exceptions are raised when some internal events occur which change the normal flow of the program. whereas ,Syntax errors occur when there is a mistake in the syntax of a program. It means that Python cannot understand what you are trying to do. For example, if you forget to put a colon at the end of an if statement or forget to close a bracket, Python will raise a syntax error"
   ]
  },
  {
   "cell_type": "markdown",
   "id": "e0b3860d-d492-474a-9d65-ba0ee0423142",
   "metadata": {},
   "source": [
    "Q2. what happens when an exception is not handled ? explain with an example ."
   ]
  },
  {
   "cell_type": "markdown",
   "id": "9e3ef517-13a2-4d91-8ae5-18ca5a48aab4",
   "metadata": {},
   "source": [
    "A2. If an exception is not handled in Python, the program will terminate and the traceback along with the exception information will be printed. If the type of exception doesn’t match any of the except blocks, it will remain unhandled and the program will terminate."
   ]
  },
  {
   "cell_type": "markdown",
   "id": "cda6c5f9-9645-4459-ac82-86d683a28439",
   "metadata": {},
   "source": [
    "# Example"
   ]
  },
  {
   "cell_type": "code",
   "execution_count": 6,
   "id": "f14b40d4-28ad-4085-8bca-d20c2b0e2748",
   "metadata": {},
   "outputs": [
    {
     "ename": "ZeroDivisionError",
     "evalue": "division by zero",
     "output_type": "error",
     "traceback": [
      "\u001b[0;31m---------------------------------------------------------------------------\u001b[0m",
      "\u001b[0;31mZeroDivisionError\u001b[0m                         Traceback (most recent call last)",
      "Cell \u001b[0;32mIn[6], line 4\u001b[0m\n\u001b[1;32m      2\u001b[0m logging\u001b[38;5;241m.\u001b[39m basicConfig(filename\u001b[38;5;241m=\u001b[39m\u001b[38;5;124m'\u001b[39m\u001b[38;5;124merror.log\u001b[39m\u001b[38;5;124m'\u001b[39m,level\u001b[38;5;241m=\u001b[39mlogging\u001b[38;5;241m.\u001b[39mERROR)\n\u001b[1;32m      3\u001b[0m \u001b[38;5;28;01mtry\u001b[39;00m:\n\u001b[0;32m----> 4\u001b[0m     \u001b[38;5;241;43m10\u001b[39;49m\u001b[38;5;241;43m/\u001b[39;49m\u001b[38;5;241;43m0\u001b[39;49m\n\u001b[1;32m      5\u001b[0m \u001b[38;5;28;01mexcept\u001b[39;00m \u001b[38;5;167;01mIndentationError\u001b[39;00m :\n\u001b[1;32m      6\u001b[0m     logging\u001b[38;5;241m.\u001b[39merror(\u001b[38;5;124m\"\u001b[39m\u001b[38;5;124mTHIS IS ZeroDivisionError \u001b[39m\u001b[38;5;124m\"\u001b[39m)\n",
      "\u001b[0;31mZeroDivisionError\u001b[0m: division by zero"
     ]
    }
   ],
   "source": [
    "import logging\n",
    "logging. basicConfig(filename='error.log',level=logging.ERROR)\n",
    "try:\n",
    "    10/0\n",
    "except IndentationError :\n",
    "    logging.error(\"THIS IS ZeroDivisionError \")"
   ]
  },
  {
   "cell_type": "markdown",
   "id": "2b045344-1b43-49b1-9659-9b827c694d2b",
   "metadata": {},
   "source": [
    "here the exception is not handled properly and because of this logging is not possible "
   ]
  },
  {
   "cell_type": "markdown",
   "id": "29b0d60e-a1fb-45d8-b7fd-bf188f3058eb",
   "metadata": {},
   "source": [
    "Q3. which python statement are used to catch and handle exceptions ? explain with an example ."
   ]
  },
  {
   "cell_type": "markdown",
   "id": "1ad560fc-cf74-4628-b429-78886a46cc38",
   "metadata": {},
   "source": [
    "A3. In Python, the try and except statements are used to catch and handle exceptions. The code that may cause an error is written inside the try block. If an error occurs, the code inside the try block stops executing and jumps to the except block. The except block contains the code that handles the exception"
   ]
  },
  {
   "cell_type": "markdown",
   "id": "0b638a4c-274a-47e6-a47a-8646f6965186",
   "metadata": {},
   "source": [
    "# EXAMPLE"
   ]
  },
  {
   "cell_type": "code",
   "execution_count": 7,
   "id": "4a4b068f-3ef8-4b26-b104-34737f9d0ff4",
   "metadata": {},
   "outputs": [],
   "source": [
    "import logging\n",
    "logging. basicConfig(filename='error.log',level=logging.ERROR)\n",
    "try:\n",
    "    10/0\n",
    "except ZeroDivisionError as e:\n",
    "    logging.error(\"THIS IS ZeroDivisionError \")"
   ]
  },
  {
   "cell_type": "markdown",
   "id": "6e2e175f-5645-4ab3-9084-6bd5cc73a65f",
   "metadata": {},
   "source": [
    "Q4. EXPLANE WITH AN EXAMPLE :                                                                                                               "
   ]
  },
  {
   "cell_type": "markdown",
   "id": "2ae085c1-41fb-48fb-8257-2a1f940d55c9",
   "metadata": {},
   "source": [
    "   a.TRY and ELSE                                                                                                                           "
   ]
  },
  {
   "cell_type": "markdown",
   "id": "6fe12af9-f745-4494-bec2-53fcdbf07fe4",
   "metadata": {},
   "source": [
    "   b.FINALLY                                                                                                                                 "
   ]
  },
  {
   "cell_type": "markdown",
   "id": "84785110-e817-490a-95c0-b8720833311c",
   "metadata": {},
   "source": [
    "   c.RAISE"
   ]
  },
  {
   "cell_type": "markdown",
   "id": "aa848077-3a94-4ba1-b2f3-bc30862a86ad",
   "metadata": {},
   "source": [
    "a.TRY AND EXCEPT = he try and except statements are used to catch and handle exceptions. The code that may cause an error is written inside the try block. If an error occurs, the code inside the try block stops executing and jumps to the except block"
   ]
  },
  {
   "cell_type": "markdown",
   "id": "a9f2bd7a-55eb-4fcf-80c4-804f3382e96e",
   "metadata": {},
   "source": [
    "# EXAMPLE"
   ]
  },
  {
   "cell_type": "code",
   "execution_count": 10,
   "id": "bd162054-8f4f-493f-995f-10eeeedfa6ed",
   "metadata": {},
   "outputs": [],
   "source": [
    "import logging\n",
    "logging. basicConfig(filename='error.log',level=logging.ERROR)\n",
    "try:\n",
    "    10/0\n",
    "except ZeroDivisionError as e:\n",
    "    logging.error(\"THIS IS ZeroDivisionError \")"
   ]
  },
  {
   "cell_type": "markdown",
   "id": "80cec92d-73d6-452c-8f2f-fd5ace479c16",
   "metadata": {},
   "source": [
    "b.FINALLY =  the finally keyword is used in conjunction with the try and except blocks. The finally block contains code that is always executed after the try block completes, regardless of whether an exception was raised or not"
   ]
  },
  {
   "cell_type": "code",
   "execution_count": 11,
   "id": "ba3c1951-32c3-4233-a3db-2925524e4e52",
   "metadata": {},
   "outputs": [],
   "source": [
    "import logging\n",
    "logging. basicConfig(filename='error.log',level=logging.ERROR)\n",
    "try:\n",
    "    10/0\n",
    "except ZeroDivisionError as e:\n",
    "    logging.error(\"THIS IS ZeroDivisionError \")\n",
    "finally :\n",
    "    logging.error(\"THIS IS finally block  \")"
   ]
  },
  {
   "cell_type": "markdown",
   "id": "858cebcb-a6fe-4602-a550-4d55614747c4",
   "metadata": {},
   "source": [
    "c.RAISE =  the raise statement is used to raise an exception. We can use it to force any exception to be raised at any point in your code with your own custom message using a single line of code."
   ]
  },
  {
   "cell_type": "code",
   "execution_count": 6,
   "id": "076b750d-4f4e-4575-a7af-2fc7f743bb1c",
   "metadata": {},
   "outputs": [
    {
     "ename": "ZeroDivisionError",
     "evalue": "LOGGING IN  CAN NOT BE DONE ",
     "output_type": "error",
     "traceback": [
      "\u001b[0;31m---------------------------------------------------------------------------\u001b[0m",
      "\u001b[0;31mZeroDivisionError\u001b[0m                         Traceback (most recent call last)",
      "Cell \u001b[0;32mIn[6], line 4\u001b[0m\n\u001b[1;32m      3\u001b[0m \u001b[38;5;28;01mtry\u001b[39;00m:\n\u001b[0;32m----> 4\u001b[0m     \u001b[38;5;241;43m10\u001b[39;49m\u001b[38;5;241;43m/\u001b[39;49m\u001b[38;5;241;43m0\u001b[39;49m\n\u001b[1;32m      5\u001b[0m \u001b[38;5;28;01mexcept\u001b[39;00m \u001b[38;5;167;01mZeroDivisionError\u001b[39;00m:\n",
      "\u001b[0;31mZeroDivisionError\u001b[0m: division by zero",
      "\nDuring handling of the above exception, another exception occurred:\n",
      "\u001b[0;31mZeroDivisionError\u001b[0m                         Traceback (most recent call last)",
      "Cell \u001b[0;32mIn[6], line 6\u001b[0m\n\u001b[1;32m      4\u001b[0m     \u001b[38;5;241m10\u001b[39m\u001b[38;5;241m/\u001b[39m\u001b[38;5;241m0\u001b[39m\n\u001b[1;32m      5\u001b[0m \u001b[38;5;28;01mexcept\u001b[39;00m \u001b[38;5;167;01mZeroDivisionError\u001b[39;00m:\n\u001b[0;32m----> 6\u001b[0m     \u001b[38;5;28;01mraise\u001b[39;00m \u001b[38;5;167;01mZeroDivisionError\u001b[39;00m(\u001b[38;5;124m\"\u001b[39m\u001b[38;5;124mLOGGING IN  CAN NOT BE DONE \u001b[39m\u001b[38;5;124m\"\u001b[39m)\n",
      "\u001b[0;31mZeroDivisionError\u001b[0m: LOGGING IN  CAN NOT BE DONE "
     ]
    }
   ],
   "source": [
    "import logging\n",
    "logging. basicConfig(filename='error.log',level=logging.ERROR)\n",
    "try:\n",
    "    10/0\n",
    "except ZeroDivisionError:\n",
    "    raise ZeroDivisionError(\"LOGGING IN  CAN NOT BE DONE \")"
   ]
  },
  {
   "cell_type": "markdown",
   "id": "2e0e2891-b9bb-43a4-aeb5-ff0e85f20aa5",
   "metadata": {},
   "source": [
    "Q5. What are custom exceptions in python ? why do we need custom exceptions ? Explain with an example. "
   ]
  },
  {
   "cell_type": "markdown",
   "id": "4b01a9b6-a3a1-4238-92e0-a6a854edc6aa",
   "metadata": {},
   "source": [
    "A5. In Python users can define custom exceptions by creating a new class. This exception class has to be derived, either directly or indirectly, from the built-in Exception class. Most of the built-in exceptions are also derived from this class.\n",
    "Custom exceptions are useful when we want to raise an exception that is not already defined in Python or when we want to create an exception that is more specific to our code"
   ]
  },
  {
   "cell_type": "markdown",
   "id": "d2963e19-b607-4564-b0cd-1c2659a52166",
   "metadata": {},
   "source": [
    "# EXAMPLE"
   ]
  },
  {
   "cell_type": "code",
   "execution_count": 6,
   "id": "e4b307ae-d898-4f76-bb06-28c6fc08446c",
   "metadata": {},
   "outputs": [
    {
     "name": "stdout",
     "output_type": "stream",
     "text": [
      "This is a custom error message\n"
     ]
    }
   ],
   "source": [
    "class CustomError(Exception):\n",
    "    pass\n",
    "\n",
    "try:\n",
    "    raise CustomError(\"This is a custom error message\")\n",
    "except CustomError as e:\n",
    "    print(e)"
   ]
  },
  {
   "cell_type": "markdown",
   "id": "66d1e0a2-12ef-41bb-b01f-51f58b933137",
   "metadata": {},
   "source": [
    "Q6. Create a custom exception class . use thi"
   ]
  },
  {
   "cell_type": "code",
   "execution_count": 1,
   "id": "d4b9f718-965f-4371-82c2-8a341b04b855",
   "metadata": {},
   "outputs": [],
   "source": [
    "class apoorv(Exception):\n",
    "    \n",
    "    def __init__(self,msg):\n",
    "        self.msg=msg"
   ]
  },
  {
   "cell_type": "code",
   "execution_count": 4,
   "id": "f99e8ea7-788b-4224-a898-51bdc1b24067",
   "metadata": {},
   "outputs": [],
   "source": [
    "def price(mrp):\n",
    "    if mrp<100 :\n",
    "        raise apoorv(\" the price is too low \")\n",
    "    elif mrp>1000 :\n",
    "        raise apoorv(\" the price is too high \")\n",
    "    else:\n",
    "        print(\"you can purchase the item , it's in your range \")"
   ]
  },
  {
   "cell_type": "code",
   "execution_count": 5,
   "id": "438c37b9-9952-428e-a30d-db40c36f5498",
   "metadata": {},
   "outputs": [
    {
     "name": "stdin",
     "output_type": "stream",
     "text": [
      "enter the price of the project :  500\n"
     ]
    },
    {
     "name": "stdout",
     "output_type": "stream",
     "text": [
      "you can purchase the item , it's in your range \n"
     ]
    }
   ],
   "source": [
    "try :\n",
    "    mrp=int(input(\"enter the price of the project : \"))\n",
    "    price(mrp)\n",
    "except apoorv as e :\n",
    "    print(e)"
   ]
  },
  {
   "cell_type": "code",
   "execution_count": null,
   "id": "21efc7e2-ad9f-4eb7-ad40-a5af7e82e575",
   "metadata": {},
   "outputs": [],
   "source": []
  }
 ],
 "metadata": {
  "kernelspec": {
   "display_name": "Python 3 (ipykernel)",
   "language": "python",
   "name": "python3"
  },
  "language_info": {
   "codemirror_mode": {
    "name": "ipython",
    "version": 3
   },
   "file_extension": ".py",
   "mimetype": "text/x-python",
   "name": "python",
   "nbconvert_exporter": "python",
   "pygments_lexer": "ipython3",
   "version": "3.10.8"
  }
 },
 "nbformat": 4,
 "nbformat_minor": 5
}
